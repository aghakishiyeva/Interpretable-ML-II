{
  "nbformat": 4,
  "nbformat_minor": 0,
  "metadata": {
    "colab": {
      "provenance": [],
      "authorship_tag": "ABX9TyNju0PrvPMeUVZJ1D8wjQRa",
      "include_colab_link": true
    },
    "kernelspec": {
      "name": "python3",
      "display_name": "Python 3"
    },
    "language_info": {
      "name": "python"
    }
  },
  "cells": [
    {
      "cell_type": "markdown",
      "metadata": {
        "id": "view-in-github",
        "colab_type": "text"
      },
      "source": [
        "<a href=\"https://colab.research.google.com/github/aghakishiyeva/Interpretable-ML-II/blob/main/AIPI590_Assignment_4.ipynb\" target=\"_parent\"><img src=\"https://colab.research.google.com/assets/colab-badge.svg\" alt=\"Open In Colab\"/></a>"
      ]
    },
    {
      "cell_type": "markdown",
      "source": [
        "[![Open in? Github](https://img.shields.io/static/v1.svg?logo=github&label=Repo&message=View%20On%20Github&color=lightgrey)](https://github.com/aghakishiyeva/Interpretable-ML/blob/main/AIPI590_Assignment_3.ipynb)"
      ],
      "metadata": {
        "id": "V7U2mgStxLKD"
      }
    },
    {
      "cell_type": "markdown",
      "source": [
        "# Import Libraries, Load and Clean the Dataset"
      ],
      "metadata": {
        "id": "7PWMO5JNxk2m"
      }
    },
    {
      "cell_type": "code",
      "source": [
        "# Cell 1: Import necessary libraries and load the data\n",
        "\n",
        "# Import necessary libraries\n",
        "import numpy as np\n",
        "import pandas as pd\n",
        "from sklearn.datasets import load_breast_cancer\n",
        "from sklearn.model_selection import train_test_split\n",
        "from sklearn.preprocessing import StandardScaler\n",
        "from sklearn.metrics import accuracy_score\n",
        "from imodels import RuleFitClassifier, SkopeRulesClassifier, BoostedRulesClassifier\n",
        "\n",
        "# Load the Breast Cancer dataset\n",
        "data = load_breast_cancer()\n",
        "X = data.data\n",
        "y = data.target\n",
        "\n",
        "# Perform a train-test split\n",
        "X_train, X_test, y_train, y_test = train_test_split(X, y, test_size=0.3, random_state=42)\n",
        "\n",
        "# Scale the data\n",
        "scaler = StandardScaler()\n",
        "X_train = scaler.fit_transform(X_train)\n",
        "X_test = scaler.transform(X_test)\n",
        "\n",
        "# Show dataset structure\n",
        "print(\"Dataset structure:\", X_train.shape)\n",
        "print(\"Target classes:\", np.unique(y))"
      ],
      "metadata": {
        "colab": {
          "base_uri": "https://localhost:8080/"
        },
        "id": "mEov3BSBzUue",
        "outputId": "4829b36a-2a5a-4f53-c53c-0a32a5937f0d"
      },
      "execution_count": null,
      "outputs": [
        {
          "output_type": "stream",
          "name": "stdout",
          "text": [
            "Dataset structure: (398, 30)\n",
            "Target classes: [0 1]\n"
          ]
        },
        {
          "output_type": "stream",
          "name": "stderr",
          "text": [
            "/usr/local/lib/python3.10/dist-packages/ipykernel/ipkernel.py:283: DeprecationWarning: `should_run_async` will not call `transform_cell` automatically in the future. Please pass the result to `transformed_cell` argument and any exception that happen during thetransform in `preprocessing_exc_tuple` in IPython 7.17 and above.\n",
            "  and should_run_async(code)\n"
          ]
        }
      ]
    },
    {
      "cell_type": "markdown",
      "source": [
        "# RuleFit"
      ],
      "metadata": {
        "id": "4vWPIVw8xMK2"
      }
    },
    {
      "cell_type": "markdown",
      "source": [
        "RuleFit combines the power of linear models and decision trees. It extracts decision rules from an ensemble of decision trees (like random forest) and fits a sparse linear model on these rules. The resulting model is interpretable because it selects a small number of decision rules that help explain the target variable. RuleFit is powerful in balancing interpretability and prediction performance."
      ],
      "metadata": {
        "id": "mlF1gSnLzAkd"
      }
    },
    {
      "cell_type": "code",
      "source": [
        "# Initialize RuleFit model\n",
        "rulefit_model = RuleFitClassifier()\n",
        "\n",
        "# Fit and predict with RuleFit\n",
        "rulefit_model.fit(X_train, y_train)\n",
        "rulefit_preds = rulefit_model.predict(X_test)\n",
        "\n",
        "# Calculate accuracy\n",
        "rulefit_acc = accuracy_score(y_test, rulefit_preds)\n",
        "print(f\"Accuracy of RuleFit: {rulefit_acc}\")"
      ],
      "metadata": {
        "colab": {
          "base_uri": "https://localhost:8080/"
        },
        "id": "CmHU5325zYv1",
        "outputId": "40e6749c-10c1-4c2f-91db-c0ac94c7ad75"
      },
      "execution_count": null,
      "outputs": [
        {
          "output_type": "stream",
          "name": "stderr",
          "text": [
            "/usr/local/lib/python3.10/dist-packages/ipykernel/ipkernel.py:283: DeprecationWarning: `should_run_async` will not call `transform_cell` automatically in the future. Please pass the result to `transformed_cell` argument and any exception that happen during thetransform in `preprocessing_exc_tuple` in IPython 7.17 and above.\n",
            "  and should_run_async(code)\n"
          ]
        },
        {
          "output_type": "stream",
          "name": "stdout",
          "text": [
            "Accuracy of RuleFit: 0.9532163742690059\n"
          ]
        }
      ]
    },
    {
      "cell_type": "code",
      "source": [
        "rule_df = rulefit_model.visualize()\n",
        "rule_df"
      ],
      "metadata": {
        "id": "oM_GklNh2AT2",
        "outputId": "b491fed9-45a0-424e-c95d-ab3385714d4a",
        "colab": {
          "base_uri": "https://localhost:8080/",
          "height": 892
        }
      },
      "execution_count": null,
      "outputs": [
        {
          "output_type": "stream",
          "name": "stderr",
          "text": [
            "/usr/local/lib/python3.10/dist-packages/ipykernel/ipkernel.py:283: DeprecationWarning: `should_run_async` will not call `transform_cell` automatically in the future. Please pass the result to `transformed_cell` argument and any exception that happen during thetransform in `preprocessing_exc_tuple` in IPython 7.17 and above.\n",
            "  and should_run_async(code)\n"
          ]
        },
        {
          "output_type": "execute_result",
          "data": {
            "text/plain": [
              "                                                                       rule  \\\n",
              "21                                                                      X21   \n",
              "24                                                                      X24   \n",
              "45                                        X10 <= 0.55918 and X27 <= 0.44685   \n",
              "46   X10 <= 0.65777 and X22 <= 0.23111 and X24 <= 1.9952 and X27 <= 0.61454   \n",
              "47                      X20 <= 0.10591 and X27 <= 0.66078 and X3 <= 0.10178   \n",
              "52                     X10 <= 0.76102 and X23 <= -0.08973 and X28 <= 1.1038   \n",
              "43                      X10 <= 0.76102 and X23 <= 0.15157 and X7 <= 0.07541   \n",
              "50   X13 <= 0.16596 and X20 <= 0.10799 and X27 <= 0.64197 and X7 <= 0.19542   \n",
              "44                    X13 <= -0.09713 and X27 <= 0.44763 and X28 <= 0.83227   \n",
              "42  X10 <= 0.6233 and X14 > -1.19126 and X23 <= -0.02394 and X27 <= 0.38886   \n",
              "49                      X21 <= 0.77195 and X22 <= 0.2417 and X27 <= 0.70623   \n",
              "48                     X1 <= 0.48015 and X23 <= -0.02394 and X27 <= 0.70623   \n",
              "40                                        X23 > -0.25516 and X26 > -0.33818   \n",
              "33                      X1 > -0.98465 and X22 > -0.17596 and X26 > -0.30628   \n",
              "37                                          X16 <= 3.44436 and X7 > 0.07541   \n",
              "41                                         X1 > -0.60568 and X22 > -0.16839   \n",
              "39                        X19 <= 2.60109 and X6 > -0.24243 and X7 > 0.06838   \n",
              "34                                          X21 > -0.93603 and X7 > 0.07541   \n",
              "32                                          X21 > -0.86864 and X7 > 0.07541   \n",
              "38                                          X1 > -0.98465 and X20 > 0.10591   \n",
              "31                                         X16 <= 2.93515 and X27 > 0.44685   \n",
              "35                                         X20 > 0.10799 and X26 > -0.25753   \n",
              "53  X22 > -0.06398 and X23 <= 0.13263 and X27 <= 0.58242 and X28 > -1.99952   \n",
              "51                    X21 <= -0.29377 and X22 > -0.12904 and X27 <= 0.66862   \n",
              "36    X21 > 0.77195 and X22 <= 0.2417 and X26 > -0.34661 and X27 <= 0.70623   \n",
              "30     X13 > -0.12683 and X4 > -0.50744 and X7 <= 0.10926 and X8 <= 0.61451   \n",
              "\n",
              "    coef  \n",
              "21 -0.08  \n",
              "24 -0.02  \n",
              "45  0.48  \n",
              "46  0.66  \n",
              "47  0.13  \n",
              "52  0.14  \n",
              "43  0.30  \n",
              "50  0.42  \n",
              "44  0.96  \n",
              "42  0.39  \n",
              "49  0.81  \n",
              "48  1.33  \n",
              "40 -0.35  \n",
              "33 -2.06  \n",
              "37 -0.17  \n",
              "41 -0.27  \n",
              "39 -1.12  \n",
              "34 -0.18  \n",
              "32 -0.39  \n",
              "38 -0.05  \n",
              "31 -0.10  \n",
              "35 -0.46  \n",
              "53  0.68  \n",
              "51  0.04  \n",
              "36 -0.42  \n",
              "30 -1.24  "
            ],
            "text/html": [
              "\n",
              "  <div id=\"df-6a2642ce-2a5d-44da-b14e-85cc5b46e9f6\" class=\"colab-df-container\">\n",
              "    <div>\n",
              "<style scoped>\n",
              "    .dataframe tbody tr th:only-of-type {\n",
              "        vertical-align: middle;\n",
              "    }\n",
              "\n",
              "    .dataframe tbody tr th {\n",
              "        vertical-align: top;\n",
              "    }\n",
              "\n",
              "    .dataframe thead th {\n",
              "        text-align: right;\n",
              "    }\n",
              "</style>\n",
              "<table border=\"1\" class=\"dataframe\">\n",
              "  <thead>\n",
              "    <tr style=\"text-align: right;\">\n",
              "      <th></th>\n",
              "      <th>rule</th>\n",
              "      <th>coef</th>\n",
              "    </tr>\n",
              "  </thead>\n",
              "  <tbody>\n",
              "    <tr>\n",
              "      <th>21</th>\n",
              "      <td>X21</td>\n",
              "      <td>-0.08</td>\n",
              "    </tr>\n",
              "    <tr>\n",
              "      <th>24</th>\n",
              "      <td>X24</td>\n",
              "      <td>-0.02</td>\n",
              "    </tr>\n",
              "    <tr>\n",
              "      <th>45</th>\n",
              "      <td>X10 &lt;= 0.55918 and X27 &lt;= 0.44685</td>\n",
              "      <td>0.48</td>\n",
              "    </tr>\n",
              "    <tr>\n",
              "      <th>46</th>\n",
              "      <td>X10 &lt;= 0.65777 and X22 &lt;= 0.23111 and X24 &lt;= 1.9952 and X27 &lt;= 0.61454</td>\n",
              "      <td>0.66</td>\n",
              "    </tr>\n",
              "    <tr>\n",
              "      <th>47</th>\n",
              "      <td>X20 &lt;= 0.10591 and X27 &lt;= 0.66078 and X3 &lt;= 0.10178</td>\n",
              "      <td>0.13</td>\n",
              "    </tr>\n",
              "    <tr>\n",
              "      <th>52</th>\n",
              "      <td>X10 &lt;= 0.76102 and X23 &lt;= -0.08973 and X28 &lt;= 1.1038</td>\n",
              "      <td>0.14</td>\n",
              "    </tr>\n",
              "    <tr>\n",
              "      <th>43</th>\n",
              "      <td>X10 &lt;= 0.76102 and X23 &lt;= 0.15157 and X7 &lt;= 0.07541</td>\n",
              "      <td>0.30</td>\n",
              "    </tr>\n",
              "    <tr>\n",
              "      <th>50</th>\n",
              "      <td>X13 &lt;= 0.16596 and X20 &lt;= 0.10799 and X27 &lt;= 0.64197 and X7 &lt;= 0.19542</td>\n",
              "      <td>0.42</td>\n",
              "    </tr>\n",
              "    <tr>\n",
              "      <th>44</th>\n",
              "      <td>X13 &lt;= -0.09713 and X27 &lt;= 0.44763 and X28 &lt;= 0.83227</td>\n",
              "      <td>0.96</td>\n",
              "    </tr>\n",
              "    <tr>\n",
              "      <th>42</th>\n",
              "      <td>X10 &lt;= 0.6233 and X14 &gt; -1.19126 and X23 &lt;= -0.02394 and X27 &lt;= 0.38886</td>\n",
              "      <td>0.39</td>\n",
              "    </tr>\n",
              "    <tr>\n",
              "      <th>49</th>\n",
              "      <td>X21 &lt;= 0.77195 and X22 &lt;= 0.2417 and X27 &lt;= 0.70623</td>\n",
              "      <td>0.81</td>\n",
              "    </tr>\n",
              "    <tr>\n",
              "      <th>48</th>\n",
              "      <td>X1 &lt;= 0.48015 and X23 &lt;= -0.02394 and X27 &lt;= 0.70623</td>\n",
              "      <td>1.33</td>\n",
              "    </tr>\n",
              "    <tr>\n",
              "      <th>40</th>\n",
              "      <td>X23 &gt; -0.25516 and X26 &gt; -0.33818</td>\n",
              "      <td>-0.35</td>\n",
              "    </tr>\n",
              "    <tr>\n",
              "      <th>33</th>\n",
              "      <td>X1 &gt; -0.98465 and X22 &gt; -0.17596 and X26 &gt; -0.30628</td>\n",
              "      <td>-2.06</td>\n",
              "    </tr>\n",
              "    <tr>\n",
              "      <th>37</th>\n",
              "      <td>X16 &lt;= 3.44436 and X7 &gt; 0.07541</td>\n",
              "      <td>-0.17</td>\n",
              "    </tr>\n",
              "    <tr>\n",
              "      <th>41</th>\n",
              "      <td>X1 &gt; -0.60568 and X22 &gt; -0.16839</td>\n",
              "      <td>-0.27</td>\n",
              "    </tr>\n",
              "    <tr>\n",
              "      <th>39</th>\n",
              "      <td>X19 &lt;= 2.60109 and X6 &gt; -0.24243 and X7 &gt; 0.06838</td>\n",
              "      <td>-1.12</td>\n",
              "    </tr>\n",
              "    <tr>\n",
              "      <th>34</th>\n",
              "      <td>X21 &gt; -0.93603 and X7 &gt; 0.07541</td>\n",
              "      <td>-0.18</td>\n",
              "    </tr>\n",
              "    <tr>\n",
              "      <th>32</th>\n",
              "      <td>X21 &gt; -0.86864 and X7 &gt; 0.07541</td>\n",
              "      <td>-0.39</td>\n",
              "    </tr>\n",
              "    <tr>\n",
              "      <th>38</th>\n",
              "      <td>X1 &gt; -0.98465 and X20 &gt; 0.10591</td>\n",
              "      <td>-0.05</td>\n",
              "    </tr>\n",
              "    <tr>\n",
              "      <th>31</th>\n",
              "      <td>X16 &lt;= 2.93515 and X27 &gt; 0.44685</td>\n",
              "      <td>-0.10</td>\n",
              "    </tr>\n",
              "    <tr>\n",
              "      <th>35</th>\n",
              "      <td>X20 &gt; 0.10799 and X26 &gt; -0.25753</td>\n",
              "      <td>-0.46</td>\n",
              "    </tr>\n",
              "    <tr>\n",
              "      <th>53</th>\n",
              "      <td>X22 &gt; -0.06398 and X23 &lt;= 0.13263 and X27 &lt;= 0.58242 and X28 &gt; -1.99952</td>\n",
              "      <td>0.68</td>\n",
              "    </tr>\n",
              "    <tr>\n",
              "      <th>51</th>\n",
              "      <td>X21 &lt;= -0.29377 and X22 &gt; -0.12904 and X27 &lt;= 0.66862</td>\n",
              "      <td>0.04</td>\n",
              "    </tr>\n",
              "    <tr>\n",
              "      <th>36</th>\n",
              "      <td>X21 &gt; 0.77195 and X22 &lt;= 0.2417 and X26 &gt; -0.34661 and X27 &lt;= 0.70623</td>\n",
              "      <td>-0.42</td>\n",
              "    </tr>\n",
              "    <tr>\n",
              "      <th>30</th>\n",
              "      <td>X13 &gt; -0.12683 and X4 &gt; -0.50744 and X7 &lt;= 0.10926 and X8 &lt;= 0.61451</td>\n",
              "      <td>-1.24</td>\n",
              "    </tr>\n",
              "  </tbody>\n",
              "</table>\n",
              "</div>\n",
              "    <div class=\"colab-df-buttons\">\n",
              "\n",
              "  <div class=\"colab-df-container\">\n",
              "    <button class=\"colab-df-convert\" onclick=\"convertToInteractive('df-6a2642ce-2a5d-44da-b14e-85cc5b46e9f6')\"\n",
              "            title=\"Convert this dataframe to an interactive table.\"\n",
              "            style=\"display:none;\">\n",
              "\n",
              "  <svg xmlns=\"http://www.w3.org/2000/svg\" height=\"24px\" viewBox=\"0 -960 960 960\">\n",
              "    <path d=\"M120-120v-720h720v720H120Zm60-500h600v-160H180v160Zm220 220h160v-160H400v160Zm0 220h160v-160H400v160ZM180-400h160v-160H180v160Zm440 0h160v-160H620v160ZM180-180h160v-160H180v160Zm440 0h160v-160H620v160Z\"/>\n",
              "  </svg>\n",
              "    </button>\n",
              "\n",
              "  <style>\n",
              "    .colab-df-container {\n",
              "      display:flex;\n",
              "      gap: 12px;\n",
              "    }\n",
              "\n",
              "    .colab-df-convert {\n",
              "      background-color: #E8F0FE;\n",
              "      border: none;\n",
              "      border-radius: 50%;\n",
              "      cursor: pointer;\n",
              "      display: none;\n",
              "      fill: #1967D2;\n",
              "      height: 32px;\n",
              "      padding: 0 0 0 0;\n",
              "      width: 32px;\n",
              "    }\n",
              "\n",
              "    .colab-df-convert:hover {\n",
              "      background-color: #E2EBFA;\n",
              "      box-shadow: 0px 1px 2px rgba(60, 64, 67, 0.3), 0px 1px 3px 1px rgba(60, 64, 67, 0.15);\n",
              "      fill: #174EA6;\n",
              "    }\n",
              "\n",
              "    .colab-df-buttons div {\n",
              "      margin-bottom: 4px;\n",
              "    }\n",
              "\n",
              "    [theme=dark] .colab-df-convert {\n",
              "      background-color: #3B4455;\n",
              "      fill: #D2E3FC;\n",
              "    }\n",
              "\n",
              "    [theme=dark] .colab-df-convert:hover {\n",
              "      background-color: #434B5C;\n",
              "      box-shadow: 0px 1px 3px 1px rgba(0, 0, 0, 0.15);\n",
              "      filter: drop-shadow(0px 1px 2px rgba(0, 0, 0, 0.3));\n",
              "      fill: #FFFFFF;\n",
              "    }\n",
              "  </style>\n",
              "\n",
              "    <script>\n",
              "      const buttonEl =\n",
              "        document.querySelector('#df-6a2642ce-2a5d-44da-b14e-85cc5b46e9f6 button.colab-df-convert');\n",
              "      buttonEl.style.display =\n",
              "        google.colab.kernel.accessAllowed ? 'block' : 'none';\n",
              "\n",
              "      async function convertToInteractive(key) {\n",
              "        const element = document.querySelector('#df-6a2642ce-2a5d-44da-b14e-85cc5b46e9f6');\n",
              "        const dataTable =\n",
              "          await google.colab.kernel.invokeFunction('convertToInteractive',\n",
              "                                                    [key], {});\n",
              "        if (!dataTable) return;\n",
              "\n",
              "        const docLinkHtml = 'Like what you see? Visit the ' +\n",
              "          '<a target=\"_blank\" href=https://colab.research.google.com/notebooks/data_table.ipynb>data table notebook</a>'\n",
              "          + ' to learn more about interactive tables.';\n",
              "        element.innerHTML = '';\n",
              "        dataTable['output_type'] = 'display_data';\n",
              "        await google.colab.output.renderOutput(dataTable, element);\n",
              "        const docLink = document.createElement('div');\n",
              "        docLink.innerHTML = docLinkHtml;\n",
              "        element.appendChild(docLink);\n",
              "      }\n",
              "    </script>\n",
              "  </div>\n",
              "\n",
              "\n",
              "<div id=\"df-0abb57c9-cda6-4269-86b2-1cb7fd2c8766\">\n",
              "  <button class=\"colab-df-quickchart\" onclick=\"quickchart('df-0abb57c9-cda6-4269-86b2-1cb7fd2c8766')\"\n",
              "            title=\"Suggest charts\"\n",
              "            style=\"display:none;\">\n",
              "\n",
              "<svg xmlns=\"http://www.w3.org/2000/svg\" height=\"24px\"viewBox=\"0 0 24 24\"\n",
              "     width=\"24px\">\n",
              "    <g>\n",
              "        <path d=\"M19 3H5c-1.1 0-2 .9-2 2v14c0 1.1.9 2 2 2h14c1.1 0 2-.9 2-2V5c0-1.1-.9-2-2-2zM9 17H7v-7h2v7zm4 0h-2V7h2v10zm4 0h-2v-4h2v4z\"/>\n",
              "    </g>\n",
              "</svg>\n",
              "  </button>\n",
              "\n",
              "<style>\n",
              "  .colab-df-quickchart {\n",
              "      --bg-color: #E8F0FE;\n",
              "      --fill-color: #1967D2;\n",
              "      --hover-bg-color: #E2EBFA;\n",
              "      --hover-fill-color: #174EA6;\n",
              "      --disabled-fill-color: #AAA;\n",
              "      --disabled-bg-color: #DDD;\n",
              "  }\n",
              "\n",
              "  [theme=dark] .colab-df-quickchart {\n",
              "      --bg-color: #3B4455;\n",
              "      --fill-color: #D2E3FC;\n",
              "      --hover-bg-color: #434B5C;\n",
              "      --hover-fill-color: #FFFFFF;\n",
              "      --disabled-bg-color: #3B4455;\n",
              "      --disabled-fill-color: #666;\n",
              "  }\n",
              "\n",
              "  .colab-df-quickchart {\n",
              "    background-color: var(--bg-color);\n",
              "    border: none;\n",
              "    border-radius: 50%;\n",
              "    cursor: pointer;\n",
              "    display: none;\n",
              "    fill: var(--fill-color);\n",
              "    height: 32px;\n",
              "    padding: 0;\n",
              "    width: 32px;\n",
              "  }\n",
              "\n",
              "  .colab-df-quickchart:hover {\n",
              "    background-color: var(--hover-bg-color);\n",
              "    box-shadow: 0 1px 2px rgba(60, 64, 67, 0.3), 0 1px 3px 1px rgba(60, 64, 67, 0.15);\n",
              "    fill: var(--button-hover-fill-color);\n",
              "  }\n",
              "\n",
              "  .colab-df-quickchart-complete:disabled,\n",
              "  .colab-df-quickchart-complete:disabled:hover {\n",
              "    background-color: var(--disabled-bg-color);\n",
              "    fill: var(--disabled-fill-color);\n",
              "    box-shadow: none;\n",
              "  }\n",
              "\n",
              "  .colab-df-spinner {\n",
              "    border: 2px solid var(--fill-color);\n",
              "    border-color: transparent;\n",
              "    border-bottom-color: var(--fill-color);\n",
              "    animation:\n",
              "      spin 1s steps(1) infinite;\n",
              "  }\n",
              "\n",
              "  @keyframes spin {\n",
              "    0% {\n",
              "      border-color: transparent;\n",
              "      border-bottom-color: var(--fill-color);\n",
              "      border-left-color: var(--fill-color);\n",
              "    }\n",
              "    20% {\n",
              "      border-color: transparent;\n",
              "      border-left-color: var(--fill-color);\n",
              "      border-top-color: var(--fill-color);\n",
              "    }\n",
              "    30% {\n",
              "      border-color: transparent;\n",
              "      border-left-color: var(--fill-color);\n",
              "      border-top-color: var(--fill-color);\n",
              "      border-right-color: var(--fill-color);\n",
              "    }\n",
              "    40% {\n",
              "      border-color: transparent;\n",
              "      border-right-color: var(--fill-color);\n",
              "      border-top-color: var(--fill-color);\n",
              "    }\n",
              "    60% {\n",
              "      border-color: transparent;\n",
              "      border-right-color: var(--fill-color);\n",
              "    }\n",
              "    80% {\n",
              "      border-color: transparent;\n",
              "      border-right-color: var(--fill-color);\n",
              "      border-bottom-color: var(--fill-color);\n",
              "    }\n",
              "    90% {\n",
              "      border-color: transparent;\n",
              "      border-bottom-color: var(--fill-color);\n",
              "    }\n",
              "  }\n",
              "</style>\n",
              "\n",
              "  <script>\n",
              "    async function quickchart(key) {\n",
              "      const quickchartButtonEl =\n",
              "        document.querySelector('#' + key + ' button');\n",
              "      quickchartButtonEl.disabled = true;  // To prevent multiple clicks.\n",
              "      quickchartButtonEl.classList.add('colab-df-spinner');\n",
              "      try {\n",
              "        const charts = await google.colab.kernel.invokeFunction(\n",
              "            'suggestCharts', [key], {});\n",
              "      } catch (error) {\n",
              "        console.error('Error during call to suggestCharts:', error);\n",
              "      }\n",
              "      quickchartButtonEl.classList.remove('colab-df-spinner');\n",
              "      quickchartButtonEl.classList.add('colab-df-quickchart-complete');\n",
              "    }\n",
              "    (() => {\n",
              "      let quickchartButtonEl =\n",
              "        document.querySelector('#df-0abb57c9-cda6-4269-86b2-1cb7fd2c8766 button');\n",
              "      quickchartButtonEl.style.display =\n",
              "        google.colab.kernel.accessAllowed ? 'block' : 'none';\n",
              "    })();\n",
              "  </script>\n",
              "</div>\n",
              "\n",
              "  <div id=\"id_c5119a6e-cfe5-4d0a-9120-e197bdf13b41\">\n",
              "    <style>\n",
              "      .colab-df-generate {\n",
              "        background-color: #E8F0FE;\n",
              "        border: none;\n",
              "        border-radius: 50%;\n",
              "        cursor: pointer;\n",
              "        display: none;\n",
              "        fill: #1967D2;\n",
              "        height: 32px;\n",
              "        padding: 0 0 0 0;\n",
              "        width: 32px;\n",
              "      }\n",
              "\n",
              "      .colab-df-generate:hover {\n",
              "        background-color: #E2EBFA;\n",
              "        box-shadow: 0px 1px 2px rgba(60, 64, 67, 0.3), 0px 1px 3px 1px rgba(60, 64, 67, 0.15);\n",
              "        fill: #174EA6;\n",
              "      }\n",
              "\n",
              "      [theme=dark] .colab-df-generate {\n",
              "        background-color: #3B4455;\n",
              "        fill: #D2E3FC;\n",
              "      }\n",
              "\n",
              "      [theme=dark] .colab-df-generate:hover {\n",
              "        background-color: #434B5C;\n",
              "        box-shadow: 0px 1px 3px 1px rgba(0, 0, 0, 0.15);\n",
              "        filter: drop-shadow(0px 1px 2px rgba(0, 0, 0, 0.3));\n",
              "        fill: #FFFFFF;\n",
              "      }\n",
              "    </style>\n",
              "    <button class=\"colab-df-generate\" onclick=\"generateWithVariable('rule_df')\"\n",
              "            title=\"Generate code using this dataframe.\"\n",
              "            style=\"display:none;\">\n",
              "\n",
              "  <svg xmlns=\"http://www.w3.org/2000/svg\" height=\"24px\"viewBox=\"0 0 24 24\"\n",
              "       width=\"24px\">\n",
              "    <path d=\"M7,19H8.4L18.45,9,17,7.55,7,17.6ZM5,21V16.75L18.45,3.32a2,2,0,0,1,2.83,0l1.4,1.43a1.91,1.91,0,0,1,.58,1.4,1.91,1.91,0,0,1-.58,1.4L9.25,21ZM18.45,9,17,7.55Zm-12,3A5.31,5.31,0,0,0,4.9,8.1,5.31,5.31,0,0,0,1,6.5,5.31,5.31,0,0,0,4.9,4.9,5.31,5.31,0,0,0,6.5,1,5.31,5.31,0,0,0,8.1,4.9,5.31,5.31,0,0,0,12,6.5,5.46,5.46,0,0,0,6.5,12Z\"/>\n",
              "  </svg>\n",
              "    </button>\n",
              "    <script>\n",
              "      (() => {\n",
              "      const buttonEl =\n",
              "        document.querySelector('#id_c5119a6e-cfe5-4d0a-9120-e197bdf13b41 button.colab-df-generate');\n",
              "      buttonEl.style.display =\n",
              "        google.colab.kernel.accessAllowed ? 'block' : 'none';\n",
              "\n",
              "      buttonEl.onclick = () => {\n",
              "        google.colab.notebook.generateWithVariable('rule_df');\n",
              "      }\n",
              "      })();\n",
              "    </script>\n",
              "  </div>\n",
              "\n",
              "    </div>\n",
              "  </div>\n"
            ],
            "application/vnd.google.colaboratory.intrinsic+json": {
              "type": "dataframe",
              "variable_name": "rule_df",
              "summary": "{\n  \"name\": \"rule_df\",\n  \"rows\": 26,\n  \"fields\": [\n    {\n      \"column\": \"rule\",\n      \"properties\": {\n        \"dtype\": \"string\",\n        \"num_unique_values\": 26,\n        \"samples\": [\n          \"X13 <= -0.09713 and X27 <= 0.44763 and X28 <= 0.83227\",\n          \"X19 <= 2.60109 and X6 > -0.24243 and X7 > 0.06838\",\n          \"X21\"\n        ],\n        \"semantic_type\": \"\",\n        \"description\": \"\"\n      }\n    },\n    {\n      \"column\": \"coef\",\n      \"properties\": {\n        \"dtype\": \"number\",\n        \"std\": 0.7147252296135584,\n        \"min\": -2.06,\n        \"max\": 1.33,\n        \"num_unique_values\": 26,\n        \"samples\": [\n          0.96,\n          -1.12,\n          -0.08\n        ],\n        \"semantic_type\": \"\",\n        \"description\": \"\"\n      }\n    }\n  ]\n}"
            }
          },
          "metadata": {},
          "execution_count": 32
        }
      ]
    },
    {
      "cell_type": "markdown",
      "source": [
        "# SkopeRules"
      ],
      "metadata": {
        "id": "un7qKPaqzCKx"
      }
    },
    {
      "cell_type": "markdown",
      "source": [
        "SkopeRules is a rule learning algorithm that extracts decision rules from an ensemble of trees (such as gradient-boosted trees). It filters and deduplicates the rules to keep only the most informative ones. These rules are combined linearly to predict the target variable. It offers better interpretability by focusing on rules with high precision, especially for noisy datasets."
      ],
      "metadata": {
        "id": "tCar49QfzHWF"
      }
    },
    {
      "cell_type": "code",
      "source": [
        "# Initialize SkopeRules model\n",
        "skoperules_model = SkopeRulesClassifier()\n",
        "\n",
        "# Fit and predict with SkopeRules\n",
        "skoperules_model.fit(X_train, y_train)\n",
        "skoperules_preds = skoperules_model.predict(X_test)\n",
        "\n",
        "# Calculate accuracy\n",
        "skoperules_acc = accuracy_score(y_test, skoperules_preds)\n",
        "print(f\"Accuracy of SkopeRules: {skoperules_acc}\")"
      ],
      "metadata": {
        "colab": {
          "base_uri": "https://localhost:8080/"
        },
        "id": "nQE3kELuzGV1",
        "outputId": "561f9594-07cc-4176-e78c-36dd8bce54d0"
      },
      "execution_count": null,
      "outputs": [
        {
          "output_type": "stream",
          "name": "stderr",
          "text": [
            "/usr/local/lib/python3.10/dist-packages/ipykernel/ipkernel.py:283: DeprecationWarning: `should_run_async` will not call `transform_cell` automatically in the future. Please pass the result to `transformed_cell` argument and any exception that happen during thetransform in `preprocessing_exc_tuple` in IPython 7.17 and above.\n",
            "  and should_run_async(code)\n"
          ]
        },
        {
          "output_type": "stream",
          "name": "stdout",
          "text": [
            "Accuracy of SkopeRules: 0.3684210526315789\n"
          ]
        }
      ]
    },
    {
      "cell_type": "code",
      "source": [],
      "metadata": {
        "id": "rDj1bUAKx2kA"
      },
      "execution_count": null,
      "outputs": []
    },
    {
      "cell_type": "markdown",
      "source": [
        "# Boosted Rule Set"
      ],
      "metadata": {
        "id": "QEjUsyJXzFiH"
      }
    },
    {
      "cell_type": "markdown",
      "source": [
        "Boosted Rule Set uses an ensemble method, Adaboost, to sequentially fit a set of rules. Each rule is added one after the other, and the weight of each rule is adjusted based on how well it improves the model’s predictions. This approach is useful for generating strong predictions from a collection of weak rules. The advantage of Boosted Rule Set is that it enhances prediction performance by iteratively refining the model using previously learned rules."
      ],
      "metadata": {
        "id": "5fXO1DYtzIge"
      }
    },
    {
      "cell_type": "code",
      "source": [
        "# Initialize Boosted Rules model\n",
        "boostedrules_model = BoostedRulesClassifier()\n",
        "\n",
        "# Fit and predict with Boosted Rules\n",
        "boostedrules_model.fit(X_train, y_train)\n",
        "boostedrules_preds = boostedrules_model.predict(X_test)\n",
        "\n",
        "# Calculate accuracy\n",
        "boostedrules_acc = accuracy_score(y_test, boostedrules_preds)\n",
        "print(f\"Accuracy of Boosted Rules: {boostedrules_acc}\")"
      ],
      "metadata": {
        "colab": {
          "base_uri": "https://localhost:8080/"
        },
        "id": "KCa1TJkHzGJX",
        "outputId": "020c5d49-0bb1-4ec3-8358-141af1737613"
      },
      "execution_count": null,
      "outputs": [
        {
          "output_type": "stream",
          "name": "stderr",
          "text": [
            "/usr/local/lib/python3.10/dist-packages/ipykernel/ipkernel.py:283: DeprecationWarning: `should_run_async` will not call `transform_cell` automatically in the future. Please pass the result to `transformed_cell` argument and any exception that happen during thetransform in `preprocessing_exc_tuple` in IPython 7.17 and above.\n",
            "  and should_run_async(code)\n",
            "/usr/local/lib/python3.10/dist-packages/sklearn/ensemble/_weight_boosting.py:527: FutureWarning: The SAMME.R algorithm (the default) is deprecated and will be removed in 1.6. Use the SAMME algorithm to circumvent this warning.\n",
            "  warnings.warn(\n"
          ]
        },
        {
          "output_type": "stream",
          "name": "stdout",
          "text": [
            "Accuracy of Boosted Rules: 0.9707602339181286\n"
          ]
        }
      ]
    },
    {
      "cell_type": "code",
      "source": [],
      "metadata": {
        "id": "B5RBbhqCzhEK"
      },
      "execution_count": null,
      "outputs": []
    }
  ]
}